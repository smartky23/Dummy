{
  "nbformat": 4,
  "nbformat_minor": 0,
  "metadata": {
    "colab": {
      "provenance": [],
      "authorship_tag": "ABX9TyOCUcglG9CMXSuGJo7bVbwf",
      "include_colab_link": true
    },
    "kernelspec": {
      "name": "python3",
      "display_name": "Python 3"
    },
    "language_info": {
      "name": "python"
    }
  },
  "cells": [
    {
      "cell_type": "markdown",
      "metadata": {
        "id": "view-in-github",
        "colab_type": "text"
      },
      "source": [
        "<a href=\"https://colab.research.google.com/github/smartky23/Dummy/blob/main/%EC%97%91%EC%85%80_%EC%8B%9C%ED%8A%B8%EB%AA%85%EC%9D%84_%EC%97%91%EC%85%80%ED%8C%8C%EC%9D%BC%EB%A1%9C_%EC%B6%94%EC%B6%9C.ipynb\" target=\"_parent\"><img src=\"https://colab.research.google.com/assets/colab-badge.svg\" alt=\"Open In Colab\"/></a>"
      ]
    },
    {
      "cell_type": "code",
      "execution_count": null,
      "metadata": {
        "id": "EAx74K2heLtu"
      },
      "outputs": [],
      "source": [
        "Sub ExportSheetNamesToExcel()\n",
        "    Dim ws As Worksheet\n",
        "    Dim NewWorkbook As Workbook\n",
        "    Dim NewSheet As Worksheet\n",
        "    Dim RowNum As Long\n",
        "    Dim ItemNumber As Long\n",
        "\n",
        "    ' 새 통합 문서 생성\n",
        "    Set NewWorkbook = Workbooks.Add\n",
        "    Set NewSheet = NewWorkbook.Sheets(1)\n",
        "\n",
        "    ' 헤더 추가\n",
        "    NewSheet.Cells(1, 1).Value = \"연번 (Item Number)\"\n",
        "    NewSheet.Cells(1, 2).Value = \"시트 이름 (Sheet Name)\"\n",
        "\n",
        "    ' 데이터 시작 행 설정\n",
        "    RowNum = 2\n",
        "    ItemNumber = 1\n",
        "\n",
        "    ' 모든 시트 이름을 새 통합 문서에 기록\n",
        "    For Each ws In ThisWorkbook.Worksheets\n",
        "        NewSheet.Cells(RowNum, 1).Value = ItemNumber\n",
        "        NewSheet.Cells(RowNum, 2).Value = ws.Name\n",
        "        RowNum = RowNum + 1\n",
        "        ItemNumber = ItemNumber + 1\n",
        "    Next ws\n",
        "\n",
        "    ' 열 너비 자동 조정\n",
        "    NewSheet.Columns(\"A:B\").AutoFit\n",
        "\n",
        "    ' 새 통합 문서 저장 (원하는 경로와 파일 이름으로 수정하세요)\n",
        "    Dim SavePath As String\n",
        "    ' SavePath = Application.DefaultFilePath & \"\\SheetNames.xlsx\" ' 기본 경로 사용\n",
        "    SavePath = ThisWorkbook.Path & \"\\SheetNames.xlsx\" ' 현재 통합 문서와 같은 경로 사용\n",
        "\n",
        "    On Error Resume Next ' 파일이 이미 존재하는 경우 오류 무시\n",
        "    Kill SavePath ' 기존 파일 삭제 시도\n",
        "    On Error GoTo 0 ' 오류 처리 다시 활성화\n",
        "\n",
        "    NewWorkbook.SaveAs Filename:=SavePath, FileFormat:=xlOpenXMLWorkbook ' .xlsx 형식으로 저장\n",
        "\n",
        "    MsgBox \"Sheet names with item numbers have been exported to \" & SavePath, vbInformation\n",
        "\n",
        "    ' 새 통합 문서 닫기\n",
        "    NewWorkbook.Close SaveChanges:=False\n",
        "\n",
        "End Sub"
      ]
    }
  ]
}
