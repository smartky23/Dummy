{
  "nbformat": 4,
  "nbformat_minor": 0,
  "metadata": {
    "colab": {
      "provenance": [],
      "authorship_tag": "ABX9TyOPlDxlFPZmw0MKocdMI0Yt",
      "include_colab_link": true
    },
    "kernelspec": {
      "name": "python3",
      "display_name": "Python 3"
    },
    "language_info": {
      "name": "python"
    }
  },
  "cells": [
    {
      "cell_type": "markdown",
      "metadata": {
        "id": "view-in-github",
        "colab_type": "text"
      },
      "source": [
        "<a href=\"https://colab.research.google.com/github/smartky23/Dummy/blob/main/%EC%97%91%EC%85%80VBA_%EC%8B%9C%ED%8A%B8_%EC%9D%B8%EB%8D%B1%EC%8A%A4_%EC%83%9D%EC%84%B1(%EB%A7%81%ED%81%AC%EA%B9%8C%EC%A7%80).ipynb\" target=\"_parent\"><img src=\"https://colab.research.google.com/assets/colab-badge.svg\" alt=\"Open In Colab\"/></a>"
      ]
    },
    {
      "cell_type": "code",
      "execution_count": null,
      "metadata": {
        "id": "It3ECHIzp7mN"
      },
      "outputs": [],
      "source": [
        "Sub CreateIndex()\n",
        "    Dim xAlerts As Boolean\n",
        "    Dim I As Long\n",
        "    Dim xShtIndex As Worksheet\n",
        "    Dim xSht As Worksheet\n",
        "\n",
        "    xAlerts = Application.DisplayAlerts\n",
        "    Application.DisplayAlerts = False\n",
        "    On Error Resume Next\n",
        "    Sheets(\"Index\").Delete\n",
        "    On Error GoTo 0\n",
        "    Application.DisplayAlerts = xAlerts\n",
        "\n",
        "    ' 새로운 Index 시트 생성\n",
        "    Set xShtIndex = Sheets.Add(Sheets(1))\n",
        "    xShtIndex.Name = \"Index\"\n",
        "\n",
        "    ' 제목 (B2)\n",
        "    With xShtIndex.Cells(2, 2)\n",
        "        .Value = \"Sheet List_V\" & ThisWorkbook.Name & \"\"   ' 확장자 포함\n",
        "        .Font.Bold = True\n",
        "        .Font.Size = 14\n",
        "    End With\n",
        "\n",
        "    ' 헤더 (B4, C4)\n",
        "    xShtIndex.Cells(4, 2).Value = \"Index\"\n",
        "    xShtIndex.Cells(4, 3).Value = \"시트명\"\n",
        "    With xShtIndex.Range(\"B4:C4\")\n",
        "        .Font.Bold = True\n",
        "        .Interior.Color = RGB(200, 200, 200)   ' 연한 회색\n",
        "    End With\n",
        "\n",
        "    ' 시트 목록 작성 (B5부터)\n",
        "    I = 4\n",
        "    For Each xSht In ThisWorkbook.Sheets\n",
        "        If xSht.Name <> \"Index\" Then\n",
        "            I = I + 1\n",
        "            xShtIndex.Cells(I, 2).Value = I - 4   ' 순번\n",
        "            xShtIndex.Hyperlinks.Add _\n",
        "                Anchor:=xShtIndex.Cells(I, 3), _\n",
        "                Address:=\"\", _\n",
        "                SubAddress:=\"'\" & xSht.Name & \"'!A1\", _\n",
        "                TextToDisplay:=xSht.Name\n",
        "        End If\n",
        "    Next\n",
        "\n",
        "    ' 보기 좋게 열 너비 조정\n",
        "    xShtIndex.Columns(\"C\").AutoFit\n",
        "\n",
        "\n",
        "    ' A열 폭을 2로 조정\n",
        "    xShtIndex.Columns(\"A\").ColumnWidth = 2\n",
        "\n",
        "End Sub\n",
        "\n"
      ]
    }
  ]
}