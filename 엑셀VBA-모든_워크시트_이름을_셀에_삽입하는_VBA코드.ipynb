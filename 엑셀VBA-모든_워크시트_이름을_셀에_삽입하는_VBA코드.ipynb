{
  "nbformat": 4,
  "nbformat_minor": 0,
  "metadata": {
    "colab": {
      "provenance": [],
      "authorship_tag": "ABX9TyPljuXjjvXqXn5rAe8fcPJ1",
      "include_colab_link": true
    },
    "kernelspec": {
      "name": "python3",
      "display_name": "Python 3"
    },
    "language_info": {
      "name": "python"
    }
  },
  "cells": [
    {
      "cell_type": "markdown",
      "metadata": {
        "id": "view-in-github",
        "colab_type": "text"
      },
      "source": [
        "<a href=\"https://colab.research.google.com/github/smartky23/Dummy/blob/main/%EB%AA%A8%EB%93%A0_%EC%9B%8C%ED%81%AC%EC%8B%9C%ED%8A%B8_%EC%9D%B4%EB%A6%84%EC%9D%84_%EC%85%80%EC%97%90_%EC%82%BD%EC%9E%85%ED%95%98%EB%8A%94_VBA%EC%BD%94%EB%93%9C.ipynb\" target=\"_parent\"><img src=\"https://colab.research.google.com/assets/colab-badge.svg\" alt=\"Open In Colab\"/></a>"
      ]
    },
    {
      "cell_type": "code",
      "execution_count": null,
      "metadata": {
        "id": "rTgOAdfwirKB"
      },
      "outputs": [],
      "source": [
        "Sub SheetNames()\n",
        "Columns(1).Insert\n",
        "For i = 1 To Sheets.Count\n",
        "Cells(i, 1) = Sheets(i).Name\n",
        "Next i\n",
        "End Sub"
      ]
    }
  ]
}
