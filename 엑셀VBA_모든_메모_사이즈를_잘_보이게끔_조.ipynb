{
  "nbformat": 4,
  "nbformat_minor": 0,
  "metadata": {
    "colab": {
      "provenance": [],
      "authorship_tag": "ABX9TyOxr79UsaPk4gdOp5KkfLhj",
      "include_colab_link": true
    },
    "kernelspec": {
      "name": "python3",
      "display_name": "Python 3"
    },
    "language_info": {
      "name": "python"
    }
  },
  "cells": [
    {
      "cell_type": "markdown",
      "metadata": {
        "id": "view-in-github",
        "colab_type": "text"
      },
      "source": [
        "<a href=\"https://colab.research.google.com/github/smartky23/Dummy/blob/main/%EC%97%91%EC%85%80VBA_%EB%AA%A8%EB%93%A0_%EB%A9%94%EB%AA%A8_%EC%82%AC%EC%9D%B4%EC%A6%88%EB%A5%BC_%EC%9E%98_%EB%B3%B4%EC%9D%B4%EA%B2%8C%EB%81%94_%EC%A1%B0.ipynb\" target=\"_parent\"><img src=\"https://colab.research.google.com/assets/colab-badge.svg\" alt=\"Open In Colab\"/></a>"
      ]
    },
    {
      "cell_type": "code",
      "execution_count": null,
      "metadata": {
        "id": "dNIerj-Em1kM"
      },
      "outputs": [],
      "source": [
        "Sub Reset_Autosize_Comments()\n",
        "    Dim cmt As Comment\n",
        "    '1 pixel = 0.75 points (for comment)\n",
        "    '64 pixels = 8.43 characters, but column width/characters cannot be specified by arithmetic operations\n",
        "\n",
        "    'Empty cell selection\n",
        "    Set Empty_cell = Application.InputBox(prompt:=\"아무것도 없는 빈 셀을 선택해주세요.\", Type:=8)\n",
        "    Column_width = Range(Empty_cell.Address).ColumnWidth\n",
        "    Range(Empty_cell.Address).Font.Size = \"9\" 'Typical Comment Font Size\n",
        "    Range(Empty_cell.Address).Font.Name = \"Tahoma\" 'Typical Comment Font Name\n",
        "\n",
        "    'Size adjustment\n",
        "    For Each cmt In ActiveSheet.Comments\n",
        "        With cmt\n",
        "            .Shape.TextFrame.AutoSize = True\n",
        "            If .Shape.Width > 250 Then '150 points = 200 pixels\n",
        "                '#Route 1: Height calculation in A1 cell\n",
        "                Range(Empty_cell.Address).Value = cmt.Text\n",
        "\n",
        "                Range(Empty_cell.Address).ColumnWidth = 30.63 '27.86 characters = 200 pixels\n",
        "                Range(Empty_cell.Address).Rows.AutoFit\n",
        "                cmt_height = Range(Empty_cell.Address).Rows.Height\n",
        "                Range(Empty_cell.Address).Value = \"\"\n",
        "\n",
        "                'Re-size of comment\n",
        "                .Shape.Width = 187.5 '150 points = 200 pixels\n",
        "                .Shape.Height = cmt_height + 10\n",
        "            End If\n",
        "        End With\n",
        "    Next\n",
        "\n",
        "    'Empty cell recovery\n",
        "    Range(Empty_cell.Address).ColumnWidth = Column_width\n",
        "\n",
        "    'Position adjustment\n",
        "    For Each cmt In ActiveSheet.Comments\n",
        "        cmt.Shape.Top = cmt.Parent.Top + 5\n",
        "        cmt.Shape.Left = cmt.Parent.Offset(0, 1).Left + 5\n",
        "    Next\n",
        "End Sub"
      ]
    }
  ]
}