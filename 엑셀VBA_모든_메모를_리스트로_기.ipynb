{
  "nbformat": 4,
  "nbformat_minor": 0,
  "metadata": {
    "colab": {
      "provenance": [],
      "authorship_tag": "ABX9TyMxfApjqCshNjW5OYRH855c",
      "include_colab_link": true
    },
    "kernelspec": {
      "name": "python3",
      "display_name": "Python 3"
    },
    "language_info": {
      "name": "python"
    }
  },
  "cells": [
    {
      "cell_type": "markdown",
      "metadata": {
        "id": "view-in-github",
        "colab_type": "text"
      },
      "source": [
        "<a href=\"https://colab.research.google.com/github/smartky23/Dummy/blob/main/%EC%97%91%EC%85%80VBA_%EB%AA%A8%EB%93%A0_%EB%A9%94%EB%AA%A8%EB%A5%BC_%EB%A6%AC%EC%8A%A4%ED%8A%B8%EB%A1%9C_%EA%B8%B0.ipynb\" target=\"_parent\"><img src=\"https://colab.research.google.com/assets/colab-badge.svg\" alt=\"Open In Colab\"/></a>"
      ]
    },
    {
      "cell_type": "code",
      "execution_count": null,
      "metadata": {
        "id": "ymC6SXNEnhMj"
      },
      "outputs": [],
      "source": [
        "Sub Summarize_Comments()\n",
        "    Dim cmt As Comment\n",
        "    Set Com = ActiveSheet.Comments\n",
        "    Row_N = 2\n",
        "    Sheets.Add.Name = \"Comment Summary\"\n",
        "    Worksheets(\"Comment Summary\").Range(\"A1\").Value = \"작성자\"\n",
        "    Worksheets(\"Comment Summary\").Range(\"B1\").Value = \"셀주소\"\n",
        "    Worksheets(\"Comment Summary\").Range(\"C1\").Value = \"내용\"\n",
        "    For Each cmt In Com\n",
        "        Worksheets(\"Comment Summary\").Range(\"A\" & Row_N).Value = cmt.Author\n",
        "        Worksheets(\"Comment Summary\").Range(\"B\" & Row_N).Value = cmt.Parent.Address\n",
        "        Worksheets(\"Comment Summary\").Range(\"C\" & Row_N).Value = cmt.Text\n",
        "        Row_N = Row_N + 1\n",
        "    Next\n",
        "End Sub"
      ]
    }
  ]
}